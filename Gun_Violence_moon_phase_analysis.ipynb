{
  "cells": [
    {
      "cell_type": "markdown",
      "metadata": {
        "id": "view-in-github",
        "colab_type": "text"
      },
      "source": [
        "<a href=\"https://colab.research.google.com/github/amylearnscode/CST383_FinalProject/blob/main/Gun_Violence_moon_phase_analysis.ipynb\" target=\"_parent\"><img src=\"https://colab.research.google.com/assets/colab-badge.svg\" alt=\"Open In Colab\"/></a>"
      ]
    },
    {
      "cell_type": "markdown",
      "id": "2c02ddc3",
      "metadata": {
        "id": "2c02ddc3"
      },
      "source": [
        "CST 383 Project\n",
        "\n",
        "Group Members:\n",
        "Nathan Jobes\n",
        "Amy Gonzales\n",
        "Jerome Ortega\n",
        "Chris Bray"
      ]
    },
    {
      "cell_type": "code",
      "source": [
        "!wget -O stage3.csv https://www.dropbox.com/s/chaj5ftsu1bpdaz/stage3.csv?dl=0"
      ],
      "metadata": {
        "colab": {
          "base_uri": "https://localhost:8080/"
        },
        "id": "nJDizu3VAHZM",
        "outputId": "955d82b8-075e-48ad-d6b4-cc15ccacb85d"
      },
      "id": "nJDizu3VAHZM",
      "execution_count": null,
      "outputs": [
        {
          "output_type": "stream",
          "name": "stdout",
          "text": [
            "--2022-06-14 04:43:34--  https://www.dropbox.com/s/chaj5ftsu1bpdaz/stage3.csv?dl=0\n",
            "Resolving www.dropbox.com (www.dropbox.com)... 162.125.2.18, 2620:100:6016:18::a27d:112\n",
            "Connecting to www.dropbox.com (www.dropbox.com)|162.125.2.18|:443... connected.\n",
            "HTTP request sent, awaiting response... 301 Moved Permanently\n",
            "Location: /s/raw/chaj5ftsu1bpdaz/stage3.csv [following]\n",
            "--2022-06-14 04:43:34--  https://www.dropbox.com/s/raw/chaj5ftsu1bpdaz/stage3.csv\n",
            "Reusing existing connection to www.dropbox.com:443.\n",
            "HTTP request sent, awaiting response... 302 Found\n",
            "Location: https://ucb79553f580a58004fcc1e39526.dl.dropboxusercontent.com/cd/0/inline/BnKRLwWiImQpWUvLuwFSTJU3meYy08Ga2chSFSeMmMy4Mf7acdgNOycTv2LG7iNjNWvNh5qLTJZdaxxWW5qXZshHf78RYpXMm5MhejzpyB7oFQcYePqToNTtAf158msM8jiEkP7V1PqgMBzIkpvwzeeOJBcrtSqWdfTIUCaYTrEYaA/file# [following]\n",
            "--2022-06-14 04:43:34--  https://ucb79553f580a58004fcc1e39526.dl.dropboxusercontent.com/cd/0/inline/BnKRLwWiImQpWUvLuwFSTJU3meYy08Ga2chSFSeMmMy4Mf7acdgNOycTv2LG7iNjNWvNh5qLTJZdaxxWW5qXZshHf78RYpXMm5MhejzpyB7oFQcYePqToNTtAf158msM8jiEkP7V1PqgMBzIkpvwzeeOJBcrtSqWdfTIUCaYTrEYaA/file\n",
            "Resolving ucb79553f580a58004fcc1e39526.dl.dropboxusercontent.com (ucb79553f580a58004fcc1e39526.dl.dropboxusercontent.com)... 162.125.1.15, 2620:100:6022:15::a27d:420f\n",
            "Connecting to ucb79553f580a58004fcc1e39526.dl.dropboxusercontent.com (ucb79553f580a58004fcc1e39526.dl.dropboxusercontent.com)|162.125.1.15|:443... connected.\n",
            "HTTP request sent, awaiting response... 200 OK\n",
            "Length: 149698584 (143M) [text/plain]\n",
            "Saving to: ‘stage3.csv’\n",
            "\n",
            "stage3.csv          100%[===================>] 142.76M   110MB/s    in 1.3s    \n",
            "\n",
            "2022-06-14 04:43:36 (110 MB/s) - ‘stage3.csv’ saved [149698584/149698584]\n",
            "\n"
          ]
        }
      ]
    },
    {
      "cell_type": "code",
      "execution_count": null,
      "id": "cf1c1a85",
      "metadata": {
        "id": "cf1c1a85"
      },
      "outputs": [],
      "source": [
        "import numpy as np\n",
        "import pandas as pd\n",
        "import seaborn as sns\n",
        "import matplotlib.pyplot as plt\n",
        "import math as math\n",
        "import re as re\n",
        "from sklearn.model_selection import train_test_split\n",
        "from sklearn.preprocessing import StandardScaler\n",
        "from sklearn.neighbors import KNeighborsClassifier\n",
        "from sklearn.neighbors import KNeighborsRegressor\n",
        "from google.colab import drive\n",
        "\n",
        "\n",
        "#%matplotlib notebook\n",
        "%matplotlib inline"
      ]
    },
    {
      "cell_type": "code",
      "source": [
        "# Define graph colors and size.\n",
        "\n",
        "plt.rcParams[\"figure.figsize\"] = (15, 8)\n",
        "color_theme = [\n",
        "  '#3174A1',\n",
        "  '#E1812B',\n",
        "  '#3B923A',\n",
        "  '#C03D3E',\n",
        "  '#9372B2',\n",
        "  '#845A53',\n",
        "  '#D684BD',\n",
        "  '#7F7F7F'\n",
        "]"
      ],
      "metadata": {
        "id": "OxBM46pyY-cf"
      },
      "id": "OxBM46pyY-cf",
      "execution_count": null,
      "outputs": []
    },
    {
      "cell_type": "markdown",
      "id": "052b9711",
      "metadata": {
        "id": "052b9711"
      },
      "source": [
        "We will be taking an indepth look into the gun violence dataset. We will be trying to predict the phase of the moon given the severity of an incident. If we can predict this with any accuracy it implies a relationship between deviant behavior and the phase of the moon.\n",
        "We may investigate the inverse as well, and attempt to predict the number of casualties based on moon phase.\n",
        "\n",
        "Data is found at:\n",
        "https://github.com/jamesqo/gun-violence-data"
      ]
    },
    {
      "cell_type": "code",
      "execution_count": null,
      "id": "eeadf60c",
      "metadata": {
        "id": "eeadf60c"
      },
      "outputs": [],
      "source": [
        "dataFull = pd.read_csv('stage3.csv')"
      ]
    },
    {
      "cell_type": "code",
      "execution_count": null,
      "id": "81ff386d",
      "metadata": {
        "id": "81ff386d"
      },
      "outputs": [],
      "source": [
        "df = dataFull[['date','state','city_or_county','n_killed', 'n_injured','n_guns_involved','participant_type']].copy()"
      ]
    },
    {
      "cell_type": "code",
      "execution_count": null,
      "id": "555a8d06",
      "metadata": {
        "id": "555a8d06"
      },
      "outputs": [],
      "source": [
        "#lets focus on shootings that resulted in injured or killed victims "
      ]
    },
    {
      "cell_type": "code",
      "execution_count": null,
      "id": "23fc4577",
      "metadata": {
        "id": "23fc4577"
      },
      "outputs": [],
      "source": [
        "df = df[(df['n_killed'] > 0) | (df['n_injured'] > 0)]"
      ]
    },
    {
      "cell_type": "code",
      "execution_count": null,
      "id": "f7afe828",
      "metadata": {
        "id": "f7afe828"
      },
      "outputs": [],
      "source": [
        "\n",
        "moon_cycle = 29.53 #Number of days per moon phase cycle\n",
        "phase_count = 8 # Number of bins of moon phases\n",
        "#The following calculations were found at chrome-extension://efaidnbmnnnibpcajpcglclefindmkaj/https://www.subsystems.us/uploads/9/8/9/4/98948044/moonphase.pdf\n",
        "def calcMoonPhase(date):  #YYYY-MM-DD\n",
        "    Y = int(date[0:4])\n",
        "    M = int(date[5:7])\n",
        "    D = int(date[8:10])\n",
        "   \n",
        "    \n",
        "    A = Y//100\n",
        "    B = A//4\n",
        "    C = 2-A+B\n",
        "    E = (365.25 * (Y+4716))//1\n",
        "    F = (30.6001 * (M+1))//1\n",
        "    \n",
        "    JD = C+D+E+F - 1524.5\n",
        "    \n",
        "    days_since_new = JD - 2451549.5\n",
        "    #We are grouping the phases into their 8 majopr groups\n",
        "    days_since_last_new = round((((days_since_new / moon_cycle) - (days_since_new // moon_cycle)) * moon_cycle)//(moon_cycle/phase_count))\n",
        "    out = ['New','Wax_Cres','First_Quar','Wax_Gib','Full','Wane_Gib', 'Third_Quar', 'Wane_Cres']\n",
        "    return out[days_since_last_new%8]\n",
        "\n",
        "def calcMoonPhaseNum(date):  #YYYY-MM-DD\n",
        "    Y = int(date[0:4])\n",
        "    M = int(date[5:7])\n",
        "    D = int(date[8:10])\n",
        "   \n",
        "    \n",
        "    A = Y//100\n",
        "    B = A//4\n",
        "    C = 2-A+B\n",
        "    E = (365.25 * (Y+4716))//1\n",
        "    F = (30.6001 * (M+1))//1\n",
        "    \n",
        "    JD = C+D+E+F - 1524.5\n",
        "    \n",
        "    days_since_new = JD - 2451549.5\n",
        "    #We are grouping the phases into their 8 majopr groups\n",
        "    days_since_last_new = round((((days_since_new / moon_cycle) - (days_since_new // moon_cycle)) * moon_cycle)//(moon_cycle/phase_count))\n",
        "    out = ['New','Wax_Cres','First_Quar','Wax_Gib','Full','Wane_Gib', 'Third_Quar', 'Wane_Cres']\n",
        "    return days_since_last_new%8\n",
        "\n",
        "def calcMoonAngle(date):  #YYYY-MM-DD\n",
        "    Y = int(date[0:4])\n",
        "    M = int(date[5:7])\n",
        "    D = int(date[8:10])\n",
        "   \n",
        "    \n",
        "    A = Y//100\n",
        "    B = A//4\n",
        "    C = 2-A+B\n",
        "    E = (365.25 * (Y+4716))//1\n",
        "    F = (30.6001 * (M+1))//1\n",
        "    \n",
        "    JD = C+D+E+F - 1524.5\n",
        "    \n",
        "    days_since_new = JD - 2451549.5\n",
        "    #We are grouping the phases into their 8 majopr groups\n",
        "    days_since_last_new = round((((days_since_new / moon_cycle) - (days_since_new // moon_cycle)) * moon_cycle))\n",
        "    return days_since_last_new\n"
      ]
    },
    {
      "cell_type": "code",
      "execution_count": null,
      "id": "dd1f9175",
      "metadata": {
        "id": "dd1f9175"
      },
      "outputs": [],
      "source": [
        "df['moon_phase'] = df['date'].apply(calcMoonPhase)"
      ]
    },
    {
      "cell_type": "code",
      "execution_count": null,
      "id": "03f8a769",
      "metadata": {
        "id": "03f8a769"
      },
      "outputs": [],
      "source": [
        "# A function to try to help detect \"raid\" data entries - anomaly detection\n",
        "def countSuspects(ins):\n",
        "    return len(re.findall('Subject-Suspect',ins))"
      ]
    },
    {
      "cell_type": "code",
      "execution_count": null,
      "id": "f069269c",
      "metadata": {
        "id": "f069269c"
      },
      "outputs": [],
      "source": [
        "df['n_suspects'] = df['participant_type'].apply(countSuspects)"
      ]
    },
    {
      "cell_type": "code",
      "execution_count": null,
      "id": "ab33484d",
      "metadata": {
        "id": "ab33484d"
      },
      "outputs": [],
      "source": [
        "#Creating dataframes that contain only shootings that are classified as mass shootings and mass casualty events\n",
        "df_mass = df[ (df['n_killed'] >= 4) ].copy()\n",
        "df_mass_cas = df[ (df['n_killed'] + df['n_injured']) >= 4 ].copy()"
      ]
    },
    {
      "cell_type": "code",
      "execution_count": null,
      "id": "183e8aae",
      "metadata": {
        "id": "183e8aae"
      },
      "outputs": [],
      "source": [
        "df_raw = df.copy()"
      ]
    },
    {
      "cell_type": "markdown",
      "id": "93523273",
      "metadata": {
        "id": "93523273"
      },
      "source": [
        "Nan-Handling and evaluation of guns_involved"
      ]
    },
    {
      "cell_type": "code",
      "execution_count": null,
      "id": "51d4c3d4",
      "metadata": {
        "id": "51d4c3d4",
        "colab": {
          "base_uri": "https://localhost:8080/"
        },
        "outputId": "589ab302-e9a9-41f8-a27c-f772b0faf54b"
      },
      "outputs": [
        {
          "output_type": "execute_result",
          "data": {
            "text/plain": [
              "date                0.000000\n",
              "state               0.000000\n",
              "city_or_county      0.000000\n",
              "n_killed            0.000000\n",
              "n_injured           0.000000\n",
              "n_guns_involved     0.448332\n",
              "participant_type    0.000000\n",
              "moon_phase          0.000000\n",
              "n_suspects          0.000000\n",
              "dtype: float64"
            ]
          },
          "metadata": {},
          "execution_count": 14
        }
      ],
      "source": [
        "df.isna().sum()/df.shape[0]"
      ]
    },
    {
      "cell_type": "code",
      "execution_count": null,
      "id": "c88cd179",
      "metadata": {
        "id": "c88cd179",
        "colab": {
          "base_uri": "https://localhost:8080/"
        },
        "outputId": "44608224-6f79-4583-d258-849fb980a518"
      },
      "outputs": [
        {
          "output_type": "execute_result",
          "data": {
            "text/plain": [
              "1.0"
            ]
          },
          "metadata": {},
          "execution_count": 15
        }
      ],
      "source": [
        "df['n_guns_involved'].min()"
      ]
    },
    {
      "cell_type": "code",
      "execution_count": null,
      "id": "105a62a3",
      "metadata": {
        "id": "105a62a3",
        "colab": {
          "base_uri": "https://localhost:8080/"
        },
        "outputId": "99c4acb5-0550-40ba-ddca-dc5973686b7b"
      },
      "outputs": [
        {
          "output_type": "execute_result",
          "data": {
            "text/plain": [
              "81.0"
            ]
          },
          "metadata": {},
          "execution_count": 16
        }
      ],
      "source": [
        "df['n_guns_involved'].max()"
      ]
    },
    {
      "cell_type": "code",
      "execution_count": null,
      "id": "5dfc1d16",
      "metadata": {
        "id": "5dfc1d16",
        "colab": {
          "base_uri": "https://localhost:8080/"
        },
        "outputId": "ddbd154f-a9c3-45d7-8297-fb7ef5a0f542"
      },
      "outputs": [
        {
          "output_type": "execute_result",
          "data": {
            "text/plain": [
              "1.062289948059884"
            ]
          },
          "metadata": {},
          "execution_count": 17
        }
      ],
      "source": [
        "df['n_guns_involved'].mean()"
      ]
    },
    {
      "cell_type": "code",
      "execution_count": null,
      "id": "35f6cfeb",
      "metadata": {
        "id": "35f6cfeb",
        "colab": {
          "base_uri": "https://localhost:8080/"
        },
        "outputId": "d74c04fc-d4b1-4e90-d2fb-43630bd2d702"
      },
      "outputs": [
        {
          "output_type": "execute_result",
          "data": {
            "text/plain": [
              "1.0"
            ]
          },
          "metadata": {},
          "execution_count": 18
        }
      ],
      "source": [
        "df['n_guns_involved'].median()"
      ]
    },
    {
      "cell_type": "code",
      "execution_count": null,
      "id": "fe5079bb",
      "metadata": {
        "id": "fe5079bb",
        "colab": {
          "base_uri": "https://localhost:8080/",
          "height": 275
        },
        "outputId": "ea12f848-ee2e-4520-bd89-7d18f1e896e5"
      },
      "outputs": [
        {
          "output_type": "execute_result",
          "data": {
            "text/plain": [
              "        incident_id        date         state   city_or_county  \\\n",
              "83023        389578  2015-08-03  Pennsylvania          Palmyra   \n",
              "139258       623150  2016-08-05    New Jersey  Gloucester City   \n",
              "\n",
              "                          address  n_killed  n_injured  \\\n",
              "83023         2703 Horseshoe Pike         1          0   \n",
              "139258  800 block of Brown Street         0          0   \n",
              "\n",
              "                                             incident_url  \\\n",
              "83023   http://www.gunviolencearchive.org/incident/389578   \n",
              "139258  http://www.gunviolencearchive.org/incident/623150   \n",
              "\n",
              "                                               source_url  \\\n",
              "83023   http://fox43.com/2016/03/30/da-says-police-sho...   \n",
              "139258  http://www.courierpostonline.com/story/news/20...   \n",
              "\n",
              "        incident_url_fields_missing  ...  participant_age  \\\n",
              "83023                         False  ...            0::18   \n",
              "139258                        False  ...            0::34   \n",
              "\n",
              "       participant_age_group participant_gender  participant_name  \\\n",
              "83023           0::Adult 18+            0::Male  0::Joshua Malave   \n",
              "139258          0::Adult 18+            0::Male  0::George Walker   \n",
              "\n",
              "        participant_relationship     participant_status    participant_type  \\\n",
              "83023                        NaN              0::Killed  0::Subject-Suspect   \n",
              "139258                       NaN  0::Unharmed, Arrested  0::Subject-Suspect   \n",
              "\n",
              "                                                  sources  \\\n",
              "83023   http://philadelphia.cbslocal.com/2015/08/07/da...   \n",
              "139258  http://www.courierpostonline.com/story/news/20...   \n",
              "\n",
              "       state_house_district state_senate_district  \n",
              "83023                   NaN                   NaN  \n",
              "139258                  5.0                   5.0  \n",
              "\n",
              "[2 rows x 29 columns]"
            ],
            "text/html": [
              "\n",
              "  <div id=\"df-21280372-2cbf-4f48-9ce4-90ee08f6c04f\">\n",
              "    <div class=\"colab-df-container\">\n",
              "      <div>\n",
              "<style scoped>\n",
              "    .dataframe tbody tr th:only-of-type {\n",
              "        vertical-align: middle;\n",
              "    }\n",
              "\n",
              "    .dataframe tbody tr th {\n",
              "        vertical-align: top;\n",
              "    }\n",
              "\n",
              "    .dataframe thead th {\n",
              "        text-align: right;\n",
              "    }\n",
              "</style>\n",
              "<table border=\"1\" class=\"dataframe\">\n",
              "  <thead>\n",
              "    <tr style=\"text-align: right;\">\n",
              "      <th></th>\n",
              "      <th>incident_id</th>\n",
              "      <th>date</th>\n",
              "      <th>state</th>\n",
              "      <th>city_or_county</th>\n",
              "      <th>address</th>\n",
              "      <th>n_killed</th>\n",
              "      <th>n_injured</th>\n",
              "      <th>incident_url</th>\n",
              "      <th>source_url</th>\n",
              "      <th>incident_url_fields_missing</th>\n",
              "      <th>...</th>\n",
              "      <th>participant_age</th>\n",
              "      <th>participant_age_group</th>\n",
              "      <th>participant_gender</th>\n",
              "      <th>participant_name</th>\n",
              "      <th>participant_relationship</th>\n",
              "      <th>participant_status</th>\n",
              "      <th>participant_type</th>\n",
              "      <th>sources</th>\n",
              "      <th>state_house_district</th>\n",
              "      <th>state_senate_district</th>\n",
              "    </tr>\n",
              "  </thead>\n",
              "  <tbody>\n",
              "    <tr>\n",
              "      <th>83023</th>\n",
              "      <td>389578</td>\n",
              "      <td>2015-08-03</td>\n",
              "      <td>Pennsylvania</td>\n",
              "      <td>Palmyra</td>\n",
              "      <td>2703 Horseshoe Pike</td>\n",
              "      <td>1</td>\n",
              "      <td>0</td>\n",
              "      <td>http://www.gunviolencearchive.org/incident/389578</td>\n",
              "      <td>http://fox43.com/2016/03/30/da-says-police-sho...</td>\n",
              "      <td>False</td>\n",
              "      <td>...</td>\n",
              "      <td>0::18</td>\n",
              "      <td>0::Adult 18+</td>\n",
              "      <td>0::Male</td>\n",
              "      <td>0::Joshua Malave</td>\n",
              "      <td>NaN</td>\n",
              "      <td>0::Killed</td>\n",
              "      <td>0::Subject-Suspect</td>\n",
              "      <td>http://philadelphia.cbslocal.com/2015/08/07/da...</td>\n",
              "      <td>NaN</td>\n",
              "      <td>NaN</td>\n",
              "    </tr>\n",
              "    <tr>\n",
              "      <th>139258</th>\n",
              "      <td>623150</td>\n",
              "      <td>2016-08-05</td>\n",
              "      <td>New Jersey</td>\n",
              "      <td>Gloucester City</td>\n",
              "      <td>800 block of Brown Street</td>\n",
              "      <td>0</td>\n",
              "      <td>0</td>\n",
              "      <td>http://www.gunviolencearchive.org/incident/623150</td>\n",
              "      <td>http://www.courierpostonline.com/story/news/20...</td>\n",
              "      <td>False</td>\n",
              "      <td>...</td>\n",
              "      <td>0::34</td>\n",
              "      <td>0::Adult 18+</td>\n",
              "      <td>0::Male</td>\n",
              "      <td>0::George Walker</td>\n",
              "      <td>NaN</td>\n",
              "      <td>0::Unharmed, Arrested</td>\n",
              "      <td>0::Subject-Suspect</td>\n",
              "      <td>http://www.courierpostonline.com/story/news/20...</td>\n",
              "      <td>5.0</td>\n",
              "      <td>5.0</td>\n",
              "    </tr>\n",
              "  </tbody>\n",
              "</table>\n",
              "<p>2 rows × 29 columns</p>\n",
              "</div>\n",
              "      <button class=\"colab-df-convert\" onclick=\"convertToInteractive('df-21280372-2cbf-4f48-9ce4-90ee08f6c04f')\"\n",
              "              title=\"Convert this dataframe to an interactive table.\"\n",
              "              style=\"display:none;\">\n",
              "        \n",
              "  <svg xmlns=\"http://www.w3.org/2000/svg\" height=\"24px\"viewBox=\"0 0 24 24\"\n",
              "       width=\"24px\">\n",
              "    <path d=\"M0 0h24v24H0V0z\" fill=\"none\"/>\n",
              "    <path d=\"M18.56 5.44l.94 2.06.94-2.06 2.06-.94-2.06-.94-.94-2.06-.94 2.06-2.06.94zm-11 1L8.5 8.5l.94-2.06 2.06-.94-2.06-.94L8.5 2.5l-.94 2.06-2.06.94zm10 10l.94 2.06.94-2.06 2.06-.94-2.06-.94-.94-2.06-.94 2.06-2.06.94z\"/><path d=\"M17.41 7.96l-1.37-1.37c-.4-.4-.92-.59-1.43-.59-.52 0-1.04.2-1.43.59L10.3 9.45l-7.72 7.72c-.78.78-.78 2.05 0 2.83L4 21.41c.39.39.9.59 1.41.59.51 0 1.02-.2 1.41-.59l7.78-7.78 2.81-2.81c.8-.78.8-2.07 0-2.86zM5.41 20L4 18.59l7.72-7.72 1.47 1.35L5.41 20z\"/>\n",
              "  </svg>\n",
              "      </button>\n",
              "      \n",
              "  <style>\n",
              "    .colab-df-container {\n",
              "      display:flex;\n",
              "      flex-wrap:wrap;\n",
              "      gap: 12px;\n",
              "    }\n",
              "\n",
              "    .colab-df-convert {\n",
              "      background-color: #E8F0FE;\n",
              "      border: none;\n",
              "      border-radius: 50%;\n",
              "      cursor: pointer;\n",
              "      display: none;\n",
              "      fill: #1967D2;\n",
              "      height: 32px;\n",
              "      padding: 0 0 0 0;\n",
              "      width: 32px;\n",
              "    }\n",
              "\n",
              "    .colab-df-convert:hover {\n",
              "      background-color: #E2EBFA;\n",
              "      box-shadow: 0px 1px 2px rgba(60, 64, 67, 0.3), 0px 1px 3px 1px rgba(60, 64, 67, 0.15);\n",
              "      fill: #174EA6;\n",
              "    }\n",
              "\n",
              "    [theme=dark] .colab-df-convert {\n",
              "      background-color: #3B4455;\n",
              "      fill: #D2E3FC;\n",
              "    }\n",
              "\n",
              "    [theme=dark] .colab-df-convert:hover {\n",
              "      background-color: #434B5C;\n",
              "      box-shadow: 0px 1px 3px 1px rgba(0, 0, 0, 0.15);\n",
              "      filter: drop-shadow(0px 1px 2px rgba(0, 0, 0, 0.3));\n",
              "      fill: #FFFFFF;\n",
              "    }\n",
              "  </style>\n",
              "\n",
              "      <script>\n",
              "        const buttonEl =\n",
              "          document.querySelector('#df-21280372-2cbf-4f48-9ce4-90ee08f6c04f button.colab-df-convert');\n",
              "        buttonEl.style.display =\n",
              "          google.colab.kernel.accessAllowed ? 'block' : 'none';\n",
              "\n",
              "        async function convertToInteractive(key) {\n",
              "          const element = document.querySelector('#df-21280372-2cbf-4f48-9ce4-90ee08f6c04f');\n",
              "          const dataTable =\n",
              "            await google.colab.kernel.invokeFunction('convertToInteractive',\n",
              "                                                     [key], {});\n",
              "          if (!dataTable) return;\n",
              "\n",
              "          const docLinkHtml = 'Like what you see? Visit the ' +\n",
              "            '<a target=\"_blank\" href=https://colab.research.google.com/notebooks/data_table.ipynb>data table notebook</a>'\n",
              "            + ' to learn more about interactive tables.';\n",
              "          element.innerHTML = '';\n",
              "          dataTable['output_type'] = 'display_data';\n",
              "          await google.colab.output.renderOutput(dataTable, element);\n",
              "          const docLink = document.createElement('div');\n",
              "          docLink.innerHTML = docLinkHtml;\n",
              "          element.appendChild(docLink);\n",
              "        }\n",
              "      </script>\n",
              "    </div>\n",
              "  </div>\n",
              "  "
            ]
          },
          "metadata": {},
          "execution_count": 19
        }
      ],
      "source": [
        "#investigating the max incidents\n",
        "dataFull[dataFull['n_guns_involved'] == 81]"
      ]
    },
    {
      "cell_type": "markdown",
      "id": "2f07512c",
      "metadata": {
        "id": "2f07512c"
      },
      "source": [
        "#These are particularly unique and are likely outliers for the gun_involved column, the crime that resulted in a death was in a gun shop"
      ]
    },
    {
      "cell_type": "code",
      "execution_count": null,
      "id": "aa2b8cad",
      "metadata": {
        "id": "aa2b8cad",
        "colab": {
          "base_uri": "https://localhost:8080/",
          "height": 513
        },
        "outputId": "098851de-68d0-457a-8198-42d43881658c"
      },
      "outputs": [
        {
          "output_type": "display_data",
          "data": {
            "text/plain": [
              "<Figure size 1080x576 with 1 Axes>"
            ],
            "image/png": "[encoded data removed]"
          },
          "metadata": {
            "needs_background": "light"
          }
        }
      ],
      "source": [
        "sns.kdeplot(df_raw[df_raw['n_guns_involved'] > 0]['n_guns_involved'], bw_method = .05, color='#3174A1').set(title=\"Something\", xlabel=\"Number of Guns Involved\");"
      ]
    },
    {
      "cell_type": "code",
      "execution_count": null,
      "id": "3533211e",
      "metadata": {
        "id": "3533211e",
        "colab": {
          "base_uri": "https://localhost:8080/",
          "height": 424
        },
        "outputId": "0a7c5381-923b-4baa-9153-cd5a0caa97f0"
      },
      "outputs": [
        {
          "output_type": "execute_result",
          "data": {
            "text/plain": [
              "        n_killed  n_injured  n_guns_involved  \\\n",
              "4862           0          1              6.0   \n",
              "28474          0          1              7.0   \n",
              "38026          1          0             47.0   \n",
              "48573          0          1             10.0   \n",
              "50287          0          1             12.0   \n",
              "...          ...        ...              ...   \n",
              "226325         2          0             31.0   \n",
              "227232         1          0              6.0   \n",
              "231633         1          0              7.0   \n",
              "236263         0          1              8.0   \n",
              "239399         0          1              6.0   \n",
              "\n",
              "                                             incident_url  \n",
              "4862    http://www.gunviolencearchive.org/incident/103049  \n",
              "28474   http://www.gunviolencearchive.org/incident/165701  \n",
              "38026   http://www.gunviolencearchive.org/incident/195244  \n",
              "48573   http://www.gunviolencearchive.org/incident/284730  \n",
              "50287   http://www.gunviolencearchive.org/incident/266143  \n",
              "...                                                   ...  \n",
              "226325  http://www.gunviolencearchive.org/incident/102...  \n",
              "227232  http://www.gunviolencearchive.org/incident/102...  \n",
              "231633  http://www.gunviolencearchive.org/incident/104...  \n",
              "236263  http://www.gunviolencearchive.org/incident/106...  \n",
              "239399  http://www.gunviolencearchive.org/incident/108...  \n",
              "\n",
              "[70 rows x 4 columns]"
            ],
            "text/html": [
              "\n",
              "  <div id=\"df-d669b4fd-713c-42a9-b8bd-5ef60e883aa6\">\n",
              "    <div class=\"colab-df-container\">\n",
              "      <div>\n",
              "<style scoped>\n",
              "    .dataframe tbody tr th:only-of-type {\n",
              "        vertical-align: middle;\n",
              "    }\n",
              "\n",
              "    .dataframe tbody tr th {\n",
              "        vertical-align: top;\n",
              "    }\n",
              "\n",
              "    .dataframe thead th {\n",
              "        text-align: right;\n",
              "    }\n",
              "</style>\n",
              "<table border=\"1\" class=\"dataframe\">\n",
              "  <thead>\n",
              "    <tr style=\"text-align: right;\">\n",
              "      <th></th>\n",
              "      <th>n_killed</th>\n",
              "      <th>n_injured</th>\n",
              "      <th>n_guns_involved</th>\n",
              "      <th>incident_url</th>\n",
              "    </tr>\n",
              "  </thead>\n",
              "  <tbody>\n",
              "    <tr>\n",
              "      <th>4862</th>\n",
              "      <td>0</td>\n",
              "      <td>1</td>\n",
              "      <td>6.0</td>\n",
              "      <td>http://www.gunviolencearchive.org/incident/103049</td>\n",
              "    </tr>\n",
              "    <tr>\n",
              "      <th>28474</th>\n",
              "      <td>0</td>\n",
              "      <td>1</td>\n",
              "      <td>7.0</td>\n",
              "      <td>http://www.gunviolencearchive.org/incident/165701</td>\n",
              "    </tr>\n",
              "    <tr>\n",
              "      <th>38026</th>\n",
              "      <td>1</td>\n",
              "      <td>0</td>\n",
              "      <td>47.0</td>\n",
              "      <td>http://www.gunviolencearchive.org/incident/195244</td>\n",
              "    </tr>\n",
              "    <tr>\n",
              "      <th>48573</th>\n",
              "      <td>0</td>\n",
              "      <td>1</td>\n",
              "      <td>10.0</td>\n",
              "      <td>http://www.gunviolencearchive.org/incident/284730</td>\n",
              "    </tr>\n",
              "    <tr>\n",
              "      <th>50287</th>\n",
              "      <td>0</td>\n",
              "      <td>1</td>\n",
              "      <td>12.0</td>\n",
              "      <td>http://www.gunviolencearchive.org/incident/266143</td>\n",
              "    </tr>\n",
              "    <tr>\n",
              "      <th>...</th>\n",
              "      <td>...</td>\n",
              "      <td>...</td>\n",
              "      <td>...</td>\n",
              "      <td>...</td>\n",
              "    </tr>\n",
              "    <tr>\n",
              "      <th>226325</th>\n",
              "      <td>2</td>\n",
              "      <td>0</td>\n",
              "      <td>31.0</td>\n",
              "      <td>http://www.gunviolencearchive.org/incident/102...</td>\n",
              "    </tr>\n",
              "    <tr>\n",
              "      <th>227232</th>\n",
              "      <td>1</td>\n",
              "      <td>0</td>\n",
              "      <td>6.0</td>\n",
              "      <td>http://www.gunviolencearchive.org/incident/102...</td>\n",
              "    </tr>\n",
              "    <tr>\n",
              "      <th>231633</th>\n",
              "      <td>1</td>\n",
              "      <td>0</td>\n",
              "      <td>7.0</td>\n",
              "      <td>http://www.gunviolencearchive.org/incident/104...</td>\n",
              "    </tr>\n",
              "    <tr>\n",
              "      <th>236263</th>\n",
              "      <td>0</td>\n",
              "      <td>1</td>\n",
              "      <td>8.0</td>\n",
              "      <td>http://www.gunviolencearchive.org/incident/106...</td>\n",
              "    </tr>\n",
              "    <tr>\n",
              "      <th>239399</th>\n",
              "      <td>0</td>\n",
              "      <td>1</td>\n",
              "      <td>6.0</td>\n",
              "      <td>http://www.gunviolencearchive.org/incident/108...</td>\n",
              "    </tr>\n",
              "  </tbody>\n",
              "</table>\n",
              "<p>70 rows × 4 columns</p>\n",
              "</div>\n",
              "      <button class=\"colab-df-convert\" onclick=\"convertToInteractive('df-d669b4fd-713c-42a9-b8bd-5ef60e883aa6')\"\n",
              "              title=\"Convert this dataframe to an interactive table.\"\n",
              "              style=\"display:none;\">\n",
              "        \n",
              "  <svg xmlns=\"http://www.w3.org/2000/svg\" height=\"24px\"viewBox=\"0 0 24 24\"\n",
              "       width=\"24px\">\n",
              "    <path d=\"M0 0h24v24H0V0z\" fill=\"none\"/>\n",
              "    <path d=\"M18.56 5.44l.94 2.06.94-2.06 2.06-.94-2.06-.94-.94-2.06-.94 2.06-2.06.94zm-11 1L8.5 8.5l.94-2.06 2.06-.94-2.06-.94L8.5 2.5l-.94 2.06-2.06.94zm10 10l.94 2.06.94-2.06 2.06-.94-2.06-.94-.94-2.06-.94 2.06-2.06.94z\"/><path d=\"M17.41 7.96l-1.37-1.37c-.4-.4-.92-.59-1.43-.59-.52 0-1.04.2-1.43.59L10.3 9.45l-7.72 7.72c-.78.78-.78 2.05 0 2.83L4 21.41c.39.39.9.59 1.41.59.51 0 1.02-.2 1.41-.59l7.78-7.78 2.81-2.81c.8-.78.8-2.07 0-2.86zM5.41 20L4 18.59l7.72-7.72 1.47 1.35L5.41 20z\"/>\n",
              "  </svg>\n",
              "      </button>\n",
              "      \n",
              "  <style>\n",
              "    .colab-df-container {\n",
              "      display:flex;\n",
              "      flex-wrap:wrap;\n",
              "      gap: 12px;\n",
              "    }\n",
              "\n",
              "    .colab-df-convert {\n",
              "      background-color: #E8F0FE;\n",
              "      border: none;\n",
              "      border-radius: 50%;\n",
              "      cursor: pointer;\n",
              "      display: none;\n",
              "      fill: #1967D2;\n",
              "      height: 32px;\n",
              "      padding: 0 0 0 0;\n",
              "      width: 32px;\n",
              "    }\n",
              "\n",
              "    .colab-df-convert:hover {\n",
              "      background-color: #E2EBFA;\n",
              "      box-shadow: 0px 1px 2px rgba(60, 64, 67, 0.3), 0px 1px 3px 1px rgba(60, 64, 67, 0.15);\n",
              "      fill: #174EA6;\n",
              "    }\n",
              "\n",
              "    [theme=dark] .colab-df-convert {\n",
              "      background-color: #3B4455;\n",
              "      fill: #D2E3FC;\n",
              "    }\n",
              "\n",
              "    [theme=dark] .colab-df-convert:hover {\n",
              "      background-color: #434B5C;\n",
              "      box-shadow: 0px 1px 3px 1px rgba(0, 0, 0, 0.15);\n",
              "      filter: drop-shadow(0px 1px 2px rgba(0, 0, 0, 0.3));\n",
              "      fill: #FFFFFF;\n",
              "    }\n",
              "  </style>\n",
              "\n",
              "      <script>\n",
              "        const buttonEl =\n",
              "          document.querySelector('#df-d669b4fd-713c-42a9-b8bd-5ef60e883aa6 button.colab-df-convert');\n",
              "        buttonEl.style.display =\n",
              "          google.colab.kernel.accessAllowed ? 'block' : 'none';\n",
              "\n",
              "        async function convertToInteractive(key) {\n",
              "          const element = document.querySelector('#df-d669b4fd-713c-42a9-b8bd-5ef60e883aa6');\n",
              "          const dataTable =\n",
              "            await google.colab.kernel.invokeFunction('convertToInteractive',\n",
              "                                                     [key], {});\n",
              "          if (!dataTable) return;\n",
              "\n",
              "          const docLinkHtml = 'Like what you see? Visit the ' +\n",
              "            '<a target=\"_blank\" href=https://colab.research.google.com/notebooks/data_table.ipynb>data table notebook</a>'\n",
              "            + ' to learn more about interactive tables.';\n",
              "          element.innerHTML = '';\n",
              "          dataTable['output_type'] = 'display_data';\n",
              "          await google.colab.output.renderOutput(dataTable, element);\n",
              "          const docLink = document.createElement('div');\n",
              "          docLink.innerHTML = docLinkHtml;\n",
              "          element.appendChild(docLink);\n",
              "        }\n",
              "      </script>\n",
              "    </div>\n",
              "  </div>\n",
              "  "
            ]
          },
          "metadata": {},
          "execution_count": 21
        }
      ],
      "source": [
        "dataFull[(dataFull['n_guns_involved'] > 5) & ((dataFull['n_killed'] > 0) | (dataFull['n_injured'] > 0))][['n_killed','n_injured','n_guns_involved','incident_url']]"
      ]
    },
    {
      "cell_type": "code",
      "execution_count": null,
      "id": "87e8ffb4",
      "metadata": {
        "id": "87e8ffb4",
        "colab": {
          "base_uri": "https://localhost:8080/"
        },
        "outputId": "88576613-8891-4c03-ca22-ea01c5cb9648"
      },
      "outputs": [
        {
          "output_type": "stream",
          "name": "stdout",
          "text": [
            "0::Subject-Suspect||1::Subject-Suspect||2::Victim||3::Victim||4::Victim\n"
          ]
        }
      ],
      "source": [
        "temp = dataFull['participant_type'][2]\n",
        "print(temp)"
      ]
    },
    {
      "cell_type": "code",
      "execution_count": null,
      "id": "9229ddf8",
      "metadata": {
        "id": "9229ddf8",
        "colab": {
          "base_uri": "https://localhost:8080/"
        },
        "outputId": "baeb7ace-dd54-4eb0-bf62-1c70185f5f57"
      },
      "outputs": [
        {
          "output_type": "execute_result",
          "data": {
            "text/plain": [
              "0.23479176908490765"
            ]
          },
          "metadata": {},
          "execution_count": 23
        }
      ],
      "source": [
        "(df_raw['n_guns_involved'] > 2*df_raw['n_suspects']).sum()/df_raw.shape[0]"
      ]
    },
    {
      "cell_type": "code",
      "execution_count": null,
      "id": "0adf0e99",
      "metadata": {
        "id": "0adf0e99",
        "colab": {
          "base_uri": "https://localhost:8080/",
          "height": 424
        },
        "outputId": "8682116c-7b66-4940-a685-b3497c768f57"
      },
      "outputs": [
        {
          "output_type": "execute_result",
          "data": {
            "text/plain": [
              "              date           state          city_or_county  n_killed  \\\n",
              "4862    2014-02-02      California                 Gardena         0   \n",
              "41833   2014-10-15      Washington              Marysville         0   \n",
              "43781   2014-10-27        New York              Bainbridge         1   \n",
              "51173   2014-12-24  South Carolina         Anderson County         1   \n",
              "51950   2014-12-30        New York                   Danby         1   \n",
              "...            ...             ...                     ...       ...   \n",
              "232658  2018-02-14    Pennsylvania  Pittsburgh (Churchill)         0   \n",
              "236263  2018-03-09       Wisconsin  Milwaukee (West Allis)         0   \n",
              "236938  2018-03-14           Texas             San Antonio         1   \n",
              "239154  2018-03-28         Arizona                  Tucson         0   \n",
              "239399  2018-03-29      Washington                   Pasco         0   \n",
              "\n",
              "        n_injured  n_guns_involved                          participant_type  \\\n",
              "4862            1              6.0                        0::Subject-Suspect   \n",
              "41833           2              4.0             0::Victim||1::Subject-Suspect   \n",
              "43781           1              4.0  0::Victim||1::Victim||2::Subject-Suspect   \n",
              "51173           1              5.0  0::Victim||1::Victim||2::Subject-Suspect   \n",
              "51950           0              6.0                        0::Subject-Suspect   \n",
              "...           ...              ...                                       ...   \n",
              "232658          1              4.0                        0::Subject-Suspect   \n",
              "236263          1              8.0             0::Victim||1::Subject-Suspect   \n",
              "236938          0              4.0             0::Victim||1::Subject-Suspect   \n",
              "239154          1              5.0                        0::Subject-Suspect   \n",
              "239399          1              6.0             0::Victim||1::Subject-Suspect   \n",
              "\n",
              "        moon_phase  n_suspects  \n",
              "4862     Wane_Cres           1  \n",
              "41833     Wane_Gib           1  \n",
              "43781     Wax_Cres           1  \n",
              "51173          New           1  \n",
              "51950   First_Quar           1  \n",
              "...            ...         ...  \n",
              "232658  Third_Quar           1  \n",
              "236263  Third_Quar           1  \n",
              "236938   Wane_Cres           1  \n",
              "239154     Wax_Gib           1  \n",
              "239399     Wax_Gib           1  \n",
              "\n",
              "[77 rows x 9 columns]"
            ],
            "text/html": [
              "\n",
              "  <div id=\"df-bc61efd4-e4c6-4098-8ef4-6054fa442fa7\">\n",
              "    <div class=\"colab-df-container\">\n",
              "      <div>\n",
              "<style scoped>\n",
              "    .dataframe tbody tr th:only-of-type {\n",
              "        vertical-align: middle;\n",
              "    }\n",
              "\n",
              "    .dataframe tbody tr th {\n",
              "        vertical-align: top;\n",
              "    }\n",
              "\n",
              "    .dataframe thead th {\n",
              "        text-align: right;\n",
              "    }\n",
              "</style>\n",
              "<table border=\"1\" class=\"dataframe\">\n",
              "  <thead>\n",
              "    <tr style=\"text-align: right;\">\n",
              "      <th></th>\n",
              "      <th>date</th>\n",
              "      <th>state</th>\n",
              "      <th>city_or_county</th>\n",
              "      <th>n_killed</th>\n",
              "      <th>n_injured</th>\n",
              "      <th>n_guns_involved</th>\n",
              "      <th>participant_type</th>\n",
              "      <th>moon_phase</th>\n",
              "      <th>n_suspects</th>\n",
              "    </tr>\n",
              "  </thead>\n",
              "  <tbody>\n",
              "    <tr>\n",
              "      <th>4862</th>\n",
              "      <td>2014-02-02</td>\n",
              "      <td>California</td>\n",
              "      <td>Gardena</td>\n",
              "      <td>0</td>\n",
              "      <td>1</td>\n",
              "      <td>6.0</td>\n",
              "      <td>0::Subject-Suspect</td>\n",
              "      <td>Wane_Cres</td>\n",
              "      <td>1</td>\n",
              "    </tr>\n",
              "    <tr>\n",
              "      <th>41833</th>\n",
              "      <td>2014-10-15</td>\n",
              "      <td>Washington</td>\n",
              "      <td>Marysville</td>\n",
              "      <td>0</td>\n",
              "      <td>2</td>\n",
              "      <td>4.0</td>\n",
              "      <td>0::Victim||1::Subject-Suspect</td>\n",
              "      <td>Wane_Gib</td>\n",
              "      <td>1</td>\n",
              "    </tr>\n",
              "    <tr>\n",
              "      <th>43781</th>\n",
              "      <td>2014-10-27</td>\n",
              "      <td>New York</td>\n",
              "      <td>Bainbridge</td>\n",
              "      <td>1</td>\n",
              "      <td>1</td>\n",
              "      <td>4.0</td>\n",
              "      <td>0::Victim||1::Victim||2::Subject-Suspect</td>\n",
              "      <td>Wax_Cres</td>\n",
              "      <td>1</td>\n",
              "    </tr>\n",
              "    <tr>\n",
              "      <th>51173</th>\n",
              "      <td>2014-12-24</td>\n",
              "      <td>South Carolina</td>\n",
              "      <td>Anderson County</td>\n",
              "      <td>1</td>\n",
              "      <td>1</td>\n",
              "      <td>5.0</td>\n",
              "      <td>0::Victim||1::Victim||2::Subject-Suspect</td>\n",
              "      <td>New</td>\n",
              "      <td>1</td>\n",
              "    </tr>\n",
              "    <tr>\n",
              "      <th>51950</th>\n",
              "      <td>2014-12-30</td>\n",
              "      <td>New York</td>\n",
              "      <td>Danby</td>\n",
              "      <td>1</td>\n",
              "      <td>0</td>\n",
              "      <td>6.0</td>\n",
              "      <td>0::Subject-Suspect</td>\n",
              "      <td>First_Quar</td>\n",
              "      <td>1</td>\n",
              "    </tr>\n",
              "    <tr>\n",
              "      <th>...</th>\n",
              "      <td>...</td>\n",
              "      <td>...</td>\n",
              "      <td>...</td>\n",
              "      <td>...</td>\n",
              "      <td>...</td>\n",
              "      <td>...</td>\n",
              "      <td>...</td>\n",
              "      <td>...</td>\n",
              "      <td>...</td>\n",
              "    </tr>\n",
              "    <tr>\n",
              "      <th>232658</th>\n",
              "      <td>2018-02-14</td>\n",
              "      <td>Pennsylvania</td>\n",
              "      <td>Pittsburgh (Churchill)</td>\n",
              "      <td>0</td>\n",
              "      <td>1</td>\n",
              "      <td>4.0</td>\n",
              "      <td>0::Subject-Suspect</td>\n",
              "      <td>Third_Quar</td>\n",
              "      <td>1</td>\n",
              "    </tr>\n",
              "    <tr>\n",
              "      <th>236263</th>\n",
              "      <td>2018-03-09</td>\n",
              "      <td>Wisconsin</td>\n",
              "      <td>Milwaukee (West Allis)</td>\n",
              "      <td>0</td>\n",
              "      <td>1</td>\n",
              "      <td>8.0</td>\n",
              "      <td>0::Victim||1::Subject-Suspect</td>\n",
              "      <td>Third_Quar</td>\n",
              "      <td>1</td>\n",
              "    </tr>\n",
              "    <tr>\n",
              "      <th>236938</th>\n",
              "      <td>2018-03-14</td>\n",
              "      <td>Texas</td>\n",
              "      <td>San Antonio</td>\n",
              "      <td>1</td>\n",
              "      <td>0</td>\n",
              "      <td>4.0</td>\n",
              "      <td>0::Victim||1::Subject-Suspect</td>\n",
              "      <td>Wane_Cres</td>\n",
              "      <td>1</td>\n",
              "    </tr>\n",
              "    <tr>\n",
              "      <th>239154</th>\n",
              "      <td>2018-03-28</td>\n",
              "      <td>Arizona</td>\n",
              "      <td>Tucson</td>\n",
              "      <td>0</td>\n",
              "      <td>1</td>\n",
              "      <td>5.0</td>\n",
              "      <td>0::Subject-Suspect</td>\n",
              "      <td>Wax_Gib</td>\n",
              "      <td>1</td>\n",
              "    </tr>\n",
              "    <tr>\n",
              "      <th>239399</th>\n",
              "      <td>2018-03-29</td>\n",
              "      <td>Washington</td>\n",
              "      <td>Pasco</td>\n",
              "      <td>0</td>\n",
              "      <td>1</td>\n",
              "      <td>6.0</td>\n",
              "      <td>0::Victim||1::Subject-Suspect</td>\n",
              "      <td>Wax_Gib</td>\n",
              "      <td>1</td>\n",
              "    </tr>\n",
              "  </tbody>\n",
              "</table>\n",
              "<p>77 rows × 9 columns</p>\n",
              "</div>\n",
              "      <button class=\"colab-df-convert\" onclick=\"convertToInteractive('df-bc61efd4-e4c6-4098-8ef4-6054fa442fa7')\"\n",
              "              title=\"Convert this dataframe to an interactive table.\"\n",
              "              style=\"display:none;\">\n",
              "        \n",
              "  <svg xmlns=\"http://www.w3.org/2000/svg\" height=\"24px\"viewBox=\"0 0 24 24\"\n",
              "       width=\"24px\">\n",
              "    <path d=\"M0 0h24v24H0V0z\" fill=\"none\"/>\n",
              "    <path d=\"M18.56 5.44l.94 2.06.94-2.06 2.06-.94-2.06-.94-.94-2.06-.94 2.06-2.06.94zm-11 1L8.5 8.5l.94-2.06 2.06-.94-2.06-.94L8.5 2.5l-.94 2.06-2.06.94zm10 10l.94 2.06.94-2.06 2.06-.94-2.06-.94-.94-2.06-.94 2.06-2.06.94z\"/><path d=\"M17.41 7.96l-1.37-1.37c-.4-.4-.92-.59-1.43-.59-.52 0-1.04.2-1.43.59L10.3 9.45l-7.72 7.72c-.78.78-.78 2.05 0 2.83L4 21.41c.39.39.9.59 1.41.59.51 0 1.02-.2 1.41-.59l7.78-7.78 2.81-2.81c.8-.78.8-2.07 0-2.86zM5.41 20L4 18.59l7.72-7.72 1.47 1.35L5.41 20z\"/>\n",
              "  </svg>\n",
              "      </button>\n",
              "      \n",
              "  <style>\n",
              "    .colab-df-container {\n",
              "      display:flex;\n",
              "      flex-wrap:wrap;\n",
              "      gap: 12px;\n",
              "    }\n",
              "\n",
              "    .colab-df-convert {\n",
              "      background-color: #E8F0FE;\n",
              "      border: none;\n",
              "      border-radius: 50%;\n",
              "      cursor: pointer;\n",
              "      display: none;\n",
              "      fill: #1967D2;\n",
              "      height: 32px;\n",
              "      padding: 0 0 0 0;\n",
              "      width: 32px;\n",
              "    }\n",
              "\n",
              "    .colab-df-convert:hover {\n",
              "      background-color: #E2EBFA;\n",
              "      box-shadow: 0px 1px 2px rgba(60, 64, 67, 0.3), 0px 1px 3px 1px rgba(60, 64, 67, 0.15);\n",
              "      fill: #174EA6;\n",
              "    }\n",
              "\n",
              "    [theme=dark] .colab-df-convert {\n",
              "      background-color: #3B4455;\n",
              "      fill: #D2E3FC;\n",
              "    }\n",
              "\n",
              "    [theme=dark] .colab-df-convert:hover {\n",
              "      background-color: #434B5C;\n",
              "      box-shadow: 0px 1px 3px 1px rgba(0, 0, 0, 0.15);\n",
              "      filter: drop-shadow(0px 1px 2px rgba(0, 0, 0, 0.3));\n",
              "      fill: #FFFFFF;\n",
              "    }\n",
              "  </style>\n",
              "\n",
              "      <script>\n",
              "        const buttonEl =\n",
              "          document.querySelector('#df-bc61efd4-e4c6-4098-8ef4-6054fa442fa7 button.colab-df-convert');\n",
              "        buttonEl.style.display =\n",
              "          google.colab.kernel.accessAllowed ? 'block' : 'none';\n",
              "\n",
              "        async function convertToInteractive(key) {\n",
              "          const element = document.querySelector('#df-bc61efd4-e4c6-4098-8ef4-6054fa442fa7');\n",
              "          const dataTable =\n",
              "            await google.colab.kernel.invokeFunction('convertToInteractive',\n",
              "                                                     [key], {});\n",
              "          if (!dataTable) return;\n",
              "\n",
              "          const docLinkHtml = 'Like what you see? Visit the ' +\n",
              "            '<a target=\"_blank\" href=https://colab.research.google.com/notebooks/data_table.ipynb>data table notebook</a>'\n",
              "            + ' to learn more about interactive tables.';\n",
              "          element.innerHTML = '';\n",
              "          dataTable['output_type'] = 'display_data';\n",
              "          await google.colab.output.renderOutput(dataTable, element);\n",
              "          const docLink = document.createElement('div');\n",
              "          docLink.innerHTML = docLinkHtml;\n",
              "          element.appendChild(docLink);\n",
              "        }\n",
              "      </script>\n",
              "    </div>\n",
              "  </div>\n",
              "  "
            ]
          },
          "metadata": {},
          "execution_count": 24
        }
      ],
      "source": [
        "df_raw[(df_raw['n_guns_involved'] > 3*df_raw['n_suspects']) & (df_raw['n_guns_involved'] < 10) & (df_raw['n_guns_involved'] > 1) & (df_raw['n_suspects'] > 0) ]"
      ]
    },
    {
      "cell_type": "code",
      "execution_count": null,
      "id": "9274cdc0",
      "metadata": {
        "id": "9274cdc0",
        "colab": {
          "base_uri": "https://localhost:8080/"
        },
        "outputId": "312d1563-4976-4087-c7f9-aeaf2cef2784"
      },
      "outputs": [
        {
          "output_type": "execute_result",
          "data": {
            "text/plain": [
              "incident_id                                                               212742\n",
              "date                                                                  2014-10-27\n",
              "state                                                                   New York\n",
              "city_or_county                                                        Bainbridge\n",
              "address                                                       2907 state Route 7\n",
              "n_killed                                                                       1\n",
              "n_injured                                                                      1\n",
              "incident_url                   http://www.gunviolencearchive.org/incident/212742\n",
              "source_url                     http://www.pressconnects.com/story/news/public...\n",
              "incident_url_fields_missing                                                False\n",
              "congressional_district                                                      22.0\n",
              "gun_stolen                     0::Not-stolen||1::Not-stolen||2::Not-stolen||3...\n",
              "gun_type                           0::25 Auto||1::Unknown||2::38 Spl||3::Unknown\n",
              "incident_characteristics       Shot - Wounded/Injured||Shot - Dead (murder, a...\n",
              "latitude                                                                 42.3046\n",
              "location_description                                                         NaN\n",
              "longitude                                                               -75.4279\n",
              "n_guns_involved                                                              4.0\n",
              "notes                          Peak Fitness; 10/30 searched house & found mor...\n",
              "participant_age                                              0::26||1::60||2::56\n",
              "participant_age_group                   0::Adult 18+||1::Adult 18+||2::Adult 18+\n",
              "participant_gender                                              0::Male||2::Male\n",
              "participant_name               0::Derek D. Prindle||1::Derek S. Prindle||2::J...\n",
              "participant_relationship                                                     NaN\n",
              "participant_status                            0::Killed||1::Injured||2::Unharmed\n",
              "participant_type                        0::Victim||1::Victim||2::Subject-Suspect\n",
              "sources                        http://www.syracuse.com/news/index.ssf/2014/10...\n",
              "state_house_district                                                       122.0\n",
              "state_senate_district                                                       52.0\n",
              "Name: 43781, dtype: object"
            ]
          },
          "metadata": {},
          "execution_count": 25
        }
      ],
      "source": [
        "dataFull.iloc[43781]"
      ]
    },
    {
      "cell_type": "code",
      "execution_count": null,
      "id": "2acdbb49",
      "metadata": {
        "id": "2acdbb49",
        "colab": {
          "base_uri": "https://localhost:8080/"
        },
        "outputId": "1da38262-4c50-4acb-cd8a-c4dfa761f9c6"
      },
      "outputs": [
        {
          "output_type": "execute_result",
          "data": {
            "text/plain": [
              "69403"
            ]
          },
          "metadata": {},
          "execution_count": 26
        }
      ],
      "source": [
        "(df_raw['n_suspects'] == 0).sum()"
      ]
    },
    {
      "cell_type": "code",
      "execution_count": null,
      "id": "da1211d1",
      "metadata": {
        "id": "da1211d1"
      },
      "outputs": [],
      "source": [
        "# Guns involved has a lot of nan values and is inconsistent including guns seized after the crime, wildly varied"
      ]
    },
    {
      "cell_type": "code",
      "execution_count": null,
      "id": "156e7848",
      "metadata": {
        "id": "156e7848"
      },
      "outputs": [],
      "source": [
        "# Finding a meaningful way to remove incidents where the number of guns involved is inflated, as well as the discovery\n",
        "# that the metric does not include police weapons involved make this metric hard to deal with\n",
        "# for example two incidents can be reported with 1 gun invloved, but 1 was a man shooting at 1 officer\n",
        "# and the other could be a man with a gun, in a standoff with 40 police officers.\n",
        "# our attempt to filter the data failed as the perpetrator is not always listed as a participant in the data\n"
      ]
    },
    {
      "cell_type": "markdown",
      "id": "09d6fc68",
      "metadata": {
        "id": "09d6fc68"
      },
      "source": [
        "Graphs"
      ]
    },
    {
      "cell_type": "code",
      "execution_count": null,
      "id": "42786d12",
      "metadata": {
        "id": "42786d12"
      },
      "outputs": [],
      "source": [
        "data = dataFull[['date','state','n_killed', 'n_injured']].copy()"
      ]
    },
    {
      "cell_type": "code",
      "execution_count": null,
      "id": "49b43834",
      "metadata": {
        "id": "49b43834"
      },
      "outputs": [],
      "source": [
        "data = data[(data['n_killed'] > 0) | (data['n_injured'] > 0)]\n",
        "data['n_casualties'] = data['n_killed'] + data['n_injured']"
      ]
    },
    {
      "cell_type": "code",
      "execution_count": null,
      "id": "1bdbc248",
      "metadata": {
        "id": "1bdbc248"
      },
      "outputs": [],
      "source": [
        "data['moon_phase'] = data['date'].apply(calcMoonPhase)\n",
        "data['phase_num'] = data['date'].apply(calcMoonPhaseNum)\n",
        "moon_phase_names = ['New','Wax_Cres','1st_Quar','Wax_Gib','Full','Wan_Gib', '3rd_Quar', 'Wan_Cres']\n",
        "\n",
        "\n",
        "df_mass = data[ (data['n_killed'] >= 4) ].copy()\n",
        "df_mass_cas = data[data['n_casualties'] >= 4 ].copy()"
      ]
    },
    {
      "cell_type": "code",
      "execution_count": null,
      "id": "d371db11",
      "metadata": {
        "id": "d371db11",
        "colab": {
          "base_uri": "https://localhost:8080/",
          "height": 552
        },
        "outputId": "f80ca972-8a86-4434-f419-a8238d0573ef"
      },
      "outputs": [
        {
          "output_type": "display_data",
          "data": {
            "text/plain": [
              "<Figure size 1080x576 with 1 Axes>"
            ],
            "image/png": "[encoded data removed]"
          },
          "metadata": {
            "needs_background": "light"
          }
        }
      ],
      "source": [
        "data.groupby('phase_num')['n_casualties'].sum().plot(title='Total Number of Casualties by Moon Phase', xlabel='Moon Phase', ylabel='Number of Casualties', rot=90, kind='bar', color=color_theme).set_xticklabels(moon_phase_names);\n"
      ]
    },
    {
      "cell_type": "code",
      "execution_count": null,
      "id": "89b3a1c6",
      "metadata": {
        "scrolled": true,
        "id": "89b3a1c6",
        "colab": {
          "base_uri": "https://localhost:8080/",
          "height": 552
        },
        "outputId": "efcfe334-9cc9-4bb7-c4fe-cce8e403986d"
      },
      "outputs": [
        {
          "output_type": "display_data",
          "data": {
            "text/plain": [
              "<Figure size 1080x576 with 1 Axes>"
            ],
            "image/png": "[encoded data removed]"
          },
          "metadata": {
            "needs_background": "light"
          }
        }
      ],
      "source": [
        " df_mass.groupby('phase_num')['n_injured'].mean().plot(title='Mean Number of People Injured by Moon Phase in Mass Shootings', xlabel='Moon Phase', ylabel='Mean Number of People Injured', rot=90, kind='bar', color=color_theme).set_xticklabels(moon_phase_names);\n",
        " "
      ]
    },
    {
      "cell_type": "code",
      "execution_count": null,
      "id": "4c3e8297",
      "metadata": {
        "id": "4c3e8297",
        "colab": {
          "base_uri": "https://localhost:8080/",
          "height": 552
        },
        "outputId": "4ee7cb31-ad7e-470c-d890-665250c90b64"
      },
      "outputs": [
        {
          "output_type": "display_data",
          "data": {
            "text/plain": [
              "<Figure size 1080x576 with 1 Axes>"
            ],
            "image/png": "[encoded data removed]"
          },
          "metadata": {
            "needs_background": "light"
          }
        }
      ],
      "source": [
        "df_mass.groupby('phase_num')['n_killed'].mean().plot(title=\"Mean Number of People Killed by Moon Phase in Mass Shootings\", xlabel=\"Moon Phase\", ylabel=\"Mean Number of People Killed\", rot=90, kind=\"bar\", color=color_theme).set_xticklabels(moon_phase_names);"
      ]
    },
    {
      "cell_type": "code",
      "execution_count": null,
      "id": "09ca454c",
      "metadata": {
        "id": "09ca454c"
      },
      "outputs": [],
      "source": [
        ""
      ]
    },
    {
      "cell_type": "code",
      "execution_count": null,
      "id": "6659b2e6",
      "metadata": {
        "id": "6659b2e6"
      },
      "outputs": [],
      "source": [
        ""
      ]
    },
    {
      "cell_type": "code",
      "execution_count": null,
      "id": "f266f842",
      "metadata": {
        "id": "f266f842",
        "colab": {
          "base_uri": "https://localhost:8080/",
          "height": 513
        },
        "outputId": "8c424e81-b71d-46ba-e636-cf7c8db164f9"
      },
      "outputs": [
        {
          "output_type": "display_data",
          "data": {
            "text/plain": [
              "<Figure size 1080x576 with 1 Axes>"
            ],
            "image/png": "[encoded data removed]"
          },
          "metadata": {
            "needs_background": "light"
          }
        }
      ],
      "source": [
        "plot = sns.barplot(x=df_mass['phase_num'], y=df['n_killed']).set(ylabel=\"Mean Number Killed\", xlabel='Moon Phase', title='Mean Number Killed by Moon Phase');"
      ]
    },
    {
      "cell_type": "code",
      "execution_count": null,
      "id": "5c8b5f77",
      "metadata": {
        "id": "5c8b5f77",
        "colab": {
          "base_uri": "https://localhost:8080/",
          "height": 602
        },
        "outputId": "ee7538fe-97f1-4781-f35c-6a0b503e7265"
      },
      "outputs": [
        {
          "output_type": "display_data",
          "data": {
            "text/plain": [
              "<Figure size 1080x576 with 1 Axes>"
            ],
            "image/png": "[encoded data removed]"
          },
          "metadata": {
            "needs_background": "light"
          }
        }
      ],
      "source": [
        "data.groupby('state')['n_killed'].mean().plot.bar(color=color_theme, ylabel='Mean of People Killed', xlabel='State', title='Mean of People Killed by State', figsize=(15, 8));"
      ]
    },
    {
      "cell_type": "code",
      "execution_count": null,
      "id": "69ac894f",
      "metadata": {
        "id": "69ac894f",
        "colab": {
          "base_uri": "https://localhost:8080/",
          "height": 711
        },
        "outputId": "b8147eee-b0ee-47e9-857e-9ebb241cf93a"
      },
      "outputs": [
        {
          "output_type": "display_data",
          "data": {
            "text/plain": [
              "<Figure size 1080x720 with 1 Axes>"
            ],
            "image/png": "[encoded data removed]"
          },
          "metadata": {
            "needs_background": "light"
          }
        }
      ],
      "source": [
        "df_mass.groupby('state')['n_killed'].mean().plot.bar(color=color_theme, title='Mean of People Killed in Mass Shootings by State', ylabel='Mean of People Killed', xlabel='State', figsize=(15, 10));"
      ]
    },
    {
      "cell_type": "code",
      "execution_count": null,
      "id": "d4ea71dd",
      "metadata": {
        "id": "d4ea71dd",
        "colab": {
          "base_uri": "https://localhost:8080/",
          "height": 570
        },
        "outputId": "ec2137c8-6da5-465f-b533-c1f4bd7f5b34"
      },
      "outputs": [
        {
          "output_type": "display_data",
          "data": {
            "text/plain": [
              "<Figure size 1080x576 with 1 Axes>"
            ],
            "image/png": "[encoded data removed]"
          },
          "metadata": {
            "needs_background": "light"
          }
        }
      ],
      "source": [
        "df_mass_cas.groupby('state')['n_killed'].mean()[(df_mass_cas.groupby('state')['n_killed'].mean() > 2)].plot.bar(color=color_theme, xlabel='State', ylabel='Mean Number of People Killed', title='Mean Number of People Killed by State in Mass Casualty Events');"
      ]
    },
    {
      "cell_type": "code",
      "execution_count": null,
      "id": "ba57afd6",
      "metadata": {
        "id": "ba57afd6",
        "colab": {
          "base_uri": "https://localhost:8080/",
          "height": 602
        },
        "outputId": "9f0d4810-151e-45dd-9c03-7fd3dec56981"
      },
      "outputs": [
        {
          "output_type": "display_data",
          "data": {
            "text/plain": [
              "<Figure size 1080x576 with 1 Axes>"
            ],
            "image/png": "[encoded data removed]"
          },
          "metadata": {
            "needs_background": "light"
          }
        }
      ],
      "source": [
        "df_mass_cas.groupby('state')['n_casualties'].mean()[(df_mass_cas.groupby('state')['n_casualties'].mean() > 5)].plot.bar(color=color_theme, xlabel='State', ylabel='Mean Number of Casualties', title='Mean of Casualties by State in Mass Casualty Events');"
      ]
    },
    {
      "cell_type": "code",
      "execution_count": null,
      "id": "ac585d22",
      "metadata": {
        "id": "ac585d22",
        "colab": {
          "base_uri": "https://localhost:8080/",
          "height": 552
        },
        "outputId": "6bbb0b32-f1bb-4a1b-b2fe-7279782ec234"
      },
      "outputs": [
        {
          "output_type": "display_data",
          "data": {
            "text/plain": [
              "<Figure size 1080x576 with 1 Axes>"
            ],
            "image/png": "[encoded data removed]"
          },
          "metadata": {
            "needs_background": "light"
          }
        }
      ],
      "source": [
        "df_mass_cas[df_mass_cas['state'] == 'Texas'].groupby('phase_num')['n_killed'].mean().plot(title=\"Mean of People Killed by Moon Phase in Mass Casualty Events\", xlabel=\"Moon Phase\", ylabel=\"Mean of People Killed\", rot=90, kind=\"bar\", color=color_theme).set_xticklabels(moon_phase_names);"
      ]
    },
    {
      "cell_type": "markdown",
      "id": "cc806c9d",
      "metadata": {
        "id": "cc806c9d"
      },
      "source": [
        "ML Section\n",
        "We will primarily focus on using the n_killed and n_injured and the state to predict the moon_phase\n",
        "We will also be using engineer features, such as one hot encoded state values, number of casualties.\n",
        "There may be some other derivable features from these values and guns_involved may or may not make the final cut."
      ]
    },
    {
      "cell_type": "code",
      "execution_count": null,
      "id": "499c380c",
      "metadata": {
        "id": "499c380c"
      },
      "outputs": [],
      "source": [
        "data = dataFull[['date','state','n_killed', 'n_injured']].copy()"
      ]
    },
    {
      "cell_type": "code",
      "execution_count": null,
      "id": "37e32d93",
      "metadata": {
        "id": "37e32d93"
      },
      "outputs": [],
      "source": [
        "data = data[(data['n_killed'] > 0) | (data['n_injured'] > 0)]"
      ]
    },
    {
      "cell_type": "code",
      "execution_count": null,
      "id": "5b983d22",
      "metadata": {
        "id": "5b983d22"
      },
      "outputs": [],
      "source": [
        "data['moon_phase'] = data['date'].apply(calcMoonPhase)\n",
        "data['phase_num'] = data['date'].apply(calcMoonPhaseNum)\n",
        "data['phase_angle'] = data['date'].apply(calcMoonAngle)\n",
        "data['n_casualties'] = data['n_killed'] + data['n_injured']\n",
        "data['perc_killed'] = data['n_killed'] / data['n_casualties']\n",
        "data['perc_injured'] = data['n_injured'] / data['n_casualties']\n",
        "data['sin_angle'] = (2*math.pi*data['phase_angle']/moon_cycle).apply(math.sin)\n",
        "data['cos_angle'] = (2*math.pi*data['phase_angle']/moon_cycle).apply(math.cos)"
      ]
    },
    {
      "cell_type": "code",
      "execution_count": null,
      "id": "fb587ad6",
      "metadata": {
        "id": "fb587ad6"
      },
      "outputs": [],
      "source": [
        "#one hot encode\n",
        "states = data['state'].unique()\n",
        "\n",
        "for s in enumerate(states):\n",
        "    name = 'is' + s[1]\n",
        "    data[name] = 1*(data['state'] == s[1])"
      ]
    },
    {
      "cell_type": "code",
      "execution_count": null,
      "id": "16cfbac6",
      "metadata": {
        "id": "16cfbac6"
      },
      "outputs": [],
      "source": [
        "\n",
        "df_mass = data[ (data['n_killed'] >= 4) ].copy()\n",
        "df_mass_cas = data[ data['n_casualties'] >= 4 ].copy()"
      ]
    },
    {
      "cell_type": "code",
      "execution_count": null,
      "id": "695faf8c",
      "metadata": {
        "id": "695faf8c"
      },
      "outputs": [],
      "source": [
        ""
      ]
    },
    {
      "cell_type": "code",
      "execution_count": null,
      "id": "cf9cb078",
      "metadata": {
        "id": "cf9cb078"
      },
      "outputs": [],
      "source": [
        "X = data[['n_killed','n_injured']].values\n",
        "y = data[['moon_phase','phase_num']]\n",
        "#We will use the phase number to determine the baseline, as it is a numerical representation of the phases\n",
        "\n",
        "X_train, X_test, y_train, y_test = train_test_split(X,y, test_size=0.30, random_state=42)\n",
        "\n",
        "scaler = StandardScaler()\n",
        "X_train = scaler.fit_transform(X_train)\n",
        "X_test = scaler.transform(X_test)\n"
      ]
    },
    {
      "cell_type": "code",
      "execution_count": null,
      "id": "bf252fba",
      "metadata": {
        "id": "bf252fba",
        "colab": {
          "base_uri": "https://localhost:8080/"
        },
        "outputId": "75d023f8-a8d9-4ed1-8b8e-3a7e8621ea05"
      },
      "outputs": [
        {
          "output_type": "stream",
          "name": "stdout",
          "text": [
            "Wax_Gib  guessed for an accuracy of:  0.12421284266217197\n"
          ]
        }
      ],
      "source": [
        "#lets establisha baseline for this set\n",
        "base_num = y_train['phase_num'].mean()\n",
        "blind_guess = moon_phase_names[round(base_num)%8]\n",
        "baseline_accuracy = (y_test['moon_phase'] == blind_guess).mean()\n",
        "print(blind_guess, ' guessed for an accuracy of: ' , baseline_accuracy)\n",
        "y_train.drop('phase_num', axis = 1, inplace = True)\n",
        "y_test.drop('phase_num', axis = 1, inplace = True)\n",
        "y_train = y_train.values\n",
        "y_test = y_test.values"
      ]
    },
    {
      "cell_type": "code",
      "execution_count": null,
      "id": "2e5c6839",
      "metadata": {
        "id": "2e5c6839",
        "colab": {
          "base_uri": "https://localhost:8080/"
        },
        "outputId": "be5ab2e7-e78f-4d5d-fd8f-cba8c7d96f8a"
      },
      "outputs": [
        {
          "output_type": "stream",
          "name": "stderr",
          "text": [
            "/usr/local/lib/python3.7/dist-packages/sklearn/neighbors/_classification.py:198: DataConversionWarning: A column-vector y was passed when a 1d array was expected. Please change the shape of y to (n_samples,), for example using ravel().\n",
            "  return self._fit(X, y)\n"
          ]
        },
        {
          "output_type": "execute_result",
          "data": {
            "text/plain": [
              "0.12543359216613104"
            ]
          },
          "metadata": {},
          "execution_count": 48
        }
      ],
      "source": [
        "KNN = KNeighborsClassifier(n_neighbors=1)\n",
        "KNN.fit(X_train,y_train)\n",
        "predictions = KNN.predict(X_test)\n",
        "(predictions == y_test).mean()"
      ]
    },
    {
      "cell_type": "code",
      "execution_count": null,
      "id": "5078f65e",
      "metadata": {
        "id": "5078f65e"
      },
      "outputs": [],
      "source": [
        ""
      ]
    },
    {
      "cell_type": "code",
      "execution_count": null,
      "id": "507fa9e9",
      "metadata": {
        "id": "507fa9e9"
      },
      "outputs": [],
      "source": [
        "X = data.drop(['moon_phase','phase_num','phase_angle', 'sin_angle','cos_angle','date','state'], axis = 1).values\n",
        "y = data[['moon_phase','phase_num']]\n",
        "#We will use the phase number to determine the baseline, as it is a numerical representation of the phases\n",
        "\n",
        "X_train, X_test, y_train, y_test = train_test_split(X,y, test_size=0.30, random_state=42)\n"
      ]
    },
    {
      "cell_type": "code",
      "execution_count": null,
      "id": "3df96e70",
      "metadata": {
        "id": "3df96e70"
      },
      "outputs": [],
      "source": [
        "scaler = StandardScaler()\n",
        "X_train = scaler.fit_transform(X_train)\n",
        "X_test = scaler.transform(X_test)"
      ]
    },
    {
      "cell_type": "code",
      "execution_count": null,
      "id": "3cb94982",
      "metadata": {
        "id": "3cb94982",
        "colab": {
          "base_uri": "https://localhost:8080/"
        },
        "outputId": "d648d062-c0a7-4801-ce51-fdee167ad964"
      },
      "outputs": [
        {
          "output_type": "stream",
          "name": "stdout",
          "text": [
            "Wax_Gib  guessed for an accuracy of:  0.12421284266217197\n"
          ]
        }
      ],
      "source": [
        "#lets establisha baseline for this set\n",
        "base_num = y_train['phase_num'].mean()\n",
        "blind_guess = moon_phase_names[round(base_num)%8]\n",
        "baseline_accuracy = (y_test['moon_phase'] == blind_guess).mean()\n",
        "print(blind_guess, ' guessed for an accuracy of: ' , baseline_accuracy)\n",
        "y_train.drop('phase_num', axis = 1, inplace = True)\n",
        "y_test.drop('phase_num', axis = 1, inplace = True)\n",
        "y_train = y_train.values\n",
        "y_test = y_test.values"
      ]
    },
    {
      "cell_type": "code",
      "execution_count": null,
      "id": "4fdba525",
      "metadata": {
        "id": "4fdba525",
        "colab": {
          "base_uri": "https://localhost:8080/"
        },
        "outputId": "83d14da2-ec69-4135-f129-584addf7095b"
      },
      "outputs": [
        {
          "output_type": "stream",
          "name": "stderr",
          "text": [
            "/usr/local/lib/python3.7/dist-packages/sklearn/neighbors/_classification.py:198: DataConversionWarning: A column-vector y was passed when a 1d array was expected. Please change the shape of y to (n_samples,), for example using ravel().\n",
            "  return self._fit(X, y)\n"
          ]
        },
        {
          "output_type": "execute_result",
          "data": {
            "text/plain": [
              "0.12476343937721272"
            ]
          },
          "metadata": {},
          "execution_count": 52
        }
      ],
      "source": [
        "KNN = KNeighborsClassifier(n_neighbors=3)\n",
        "KNN.fit(X_train,y_train)\n",
        "predictions = KNN.predict(X_test)\n",
        "(predictions == y_test).mean()"
      ]
    },
    {
      "cell_type": "code",
      "source": [
        ""
      ],
      "metadata": {
        "id": "v6sYLUBLGAtI"
      },
      "id": "v6sYLUBLGAtI",
      "execution_count": null,
      "outputs": []
    },
    {
      "cell_type": "code",
      "source": [
        "def computeRMSE(predicted, actual):\n",
        "    return np.sqrt(((predicted - actual)**2).mean())"
      ],
      "metadata": {
        "id": "lFQxDurmGA5F"
      },
      "id": "lFQxDurmGA5F",
      "execution_count": null,
      "outputs": []
    },
    {
      "cell_type": "code",
      "source": [
        "X = data.drop(['moon_phase','phase_num', 'phase_angle' ,'sin_angle','cos_angle','date','state'], axis = 1).values\n",
        "y = data['phase_angle'].values\n",
        "X_train, X_test, y_train, y_test = train_test_split(X,y, test_size=0.30, random_state=42)\n",
        "\n"
      ],
      "metadata": {
        "id": "Z-YEtrA6GBBW"
      },
      "id": "Z-YEtrA6GBBW",
      "execution_count": null,
      "outputs": []
    },
    {
      "cell_type": "code",
      "source": [
        "scaler = StandardScaler()\n",
        "X_train = scaler.fit_transform(X_train)\n",
        "X_test = scaler.transform(X_test)"
      ],
      "metadata": {
        "id": "nV56gWhPGBEd"
      },
      "id": "nV56gWhPGBEd",
      "execution_count": null,
      "outputs": []
    },
    {
      "cell_type": "code",
      "source": [
        "#lets establish a baseline for this set\n",
        "blind_guess = y_train.mean()\n",
        "baseline = computeRMSE(blind_guess,y_test)\n",
        "print(blind_guess, ' guessed for an rmse of: ' , baseline)"
      ],
      "metadata": {
        "colab": {
          "base_uri": "https://localhost:8080/"
        },
        "id": "1BK4Y1EHGBHM",
        "outputId": "f19ab2d9-127c-4c10-ad00-d20e035e3f60"
      },
      "id": "1BK4Y1EHGBHM",
      "execution_count": null,
      "outputs": [
        {
          "output_type": "stream",
          "name": "stdout",
          "text": [
            "14.731221092974025  guessed for an rmse of:  8.574175409155602\n"
          ]
        }
      ]
    },
    {
      "cell_type": "code",
      "source": [
        "KNN = KNeighborsRegressor(n_neighbors=3)\n",
        "KNN.fit(X_train,y_train)\n",
        "predictions = KNN.predict(X_test)\n",
        "rmse = computeRMSE(predictions, y_test)\n",
        "print(rmse)"
      ],
      "metadata": {
        "colab": {
          "base_uri": "https://localhost:8080/"
        },
        "id": "IbPiAUWBGBJh",
        "outputId": "4e78979f-c5c6-4294-9827-aa7bc7c4e158"
      },
      "id": "IbPiAUWBGBJh",
      "execution_count": null,
      "outputs": [
        {
          "output_type": "stream",
          "name": "stdout",
          "text": [
            "9.987527759664985\n"
          ]
        }
      ]
    },
    {
      "cell_type": "code",
      "source": [
        ""
      ],
      "metadata": {
        "id": "H7sIuwVQGBMP"
      },
      "id": "H7sIuwVQGBMP",
      "execution_count": null,
      "outputs": []
    },
    {
      "cell_type": "code",
      "source": [
        "X = data.drop(['date','state','n_killed','n_injured','n_casualties','perc_injured','perc_killed','moon_phase'], axis = 1).values\n",
        "y = data['n_casualties'].values\n",
        "X_train, X_test, y_train, y_test = train_test_split(X,y, test_size=0.30, random_state=42)\n"
      ],
      "metadata": {
        "id": "iRVcFpXOGBPE"
      },
      "id": "iRVcFpXOGBPE",
      "execution_count": null,
      "outputs": []
    },
    {
      "cell_type": "code",
      "source": [
        "scaler = StandardScaler()\n",
        "X_train = scaler.fit_transform(X_train)\n",
        "X_test = scaler.transform(X_test)"
      ],
      "metadata": {
        "id": "1sCKmQaNGBRQ"
      },
      "id": "1sCKmQaNGBRQ",
      "execution_count": null,
      "outputs": []
    },
    {
      "cell_type": "code",
      "source": [
        "#lets establish a baseline for this set\n",
        "blind_guess = y_train.mean()\n",
        "baseline = computeRMSE(blind_guess,y_test)\n",
        "print(blind_guess, ' guessed for an rmse of: ' , baseline)"
      ],
      "metadata": {
        "colab": {
          "base_uri": "https://localhost:8080/"
        },
        "id": "snfYGnsRGBTt",
        "outputId": "57140594-4e6b-4013-ff66-e064fa5fdd65"
      },
      "id": "snfYGnsRGBTt",
      "execution_count": null,
      "outputs": [
        {
          "output_type": "stream",
          "name": "stdout",
          "text": [
            "1.2583648530695375  guessed for an rmse of:  0.685172588438916\n"
          ]
        }
      ]
    },
    {
      "cell_type": "code",
      "source": [
        "KNN = KNeighborsRegressor(n_neighbors=5)\n",
        "KNN.fit(X_train,y_train)\n",
        "predictions = KNN.predict(X_test)\n",
        "rmse = computeRMSE(predictions, y_test)\n",
        "print(rmse)"
      ],
      "metadata": {
        "colab": {
          "base_uri": "https://localhost:8080/"
        },
        "id": "FJ0eJqk7GBWV",
        "outputId": "f73694a0-a1e4-4849-f170-03e19991b8f8"
      },
      "id": "FJ0eJqk7GBWV",
      "execution_count": null,
      "outputs": [
        {
          "output_type": "stream",
          "name": "stdout",
          "text": [
            "0.7459225806271945\n"
          ]
        }
      ]
    },
    {
      "cell_type": "code",
      "source": [
        ""
      ],
      "metadata": {
        "id": "jf7FPDU_GTJ1"
      },
      "id": "jf7FPDU_GTJ1",
      "execution_count": null,
      "outputs": []
    },
    {
      "cell_type": "code",
      "source": [
        "X = data[['phase_num','sin_angle','cos_angle','phase_angle']].values\n",
        "y = data['n_casualties'].values\n",
        "X_train, X_test, y_train, y_test = train_test_split(X,y, test_size=0.30, random_state=42)\n",
        "\n"
      ],
      "metadata": {
        "id": "0o17s1owGTM4"
      },
      "id": "0o17s1owGTM4",
      "execution_count": null,
      "outputs": []
    },
    {
      "cell_type": "code",
      "source": [
        "scaler = StandardScaler()\n",
        "X_train = scaler.fit_transform(X_train)\n",
        "X_test = scaler.transform(X_test)"
      ],
      "metadata": {
        "id": "CdRvDKuKGTPr"
      },
      "id": "CdRvDKuKGTPr",
      "execution_count": null,
      "outputs": []
    },
    {
      "cell_type": "code",
      "source": [
        "#lets establish a baseline for this set\n",
        "blind_guess = y_train.mean()\n",
        "baseline = computeRMSE(blind_guess,y_test)\n",
        "print(blind_guess, ' guessed for an rmse of: ' , baseline)"
      ],
      "metadata": {
        "colab": {
          "base_uri": "https://localhost:8080/"
        },
        "id": "GqIHCnvwGTSN",
        "outputId": "50385490-67ce-42f1-b7fe-42c72a415a6b"
      },
      "id": "GqIHCnvwGTSN",
      "execution_count": null,
      "outputs": [
        {
          "output_type": "stream",
          "name": "stdout",
          "text": [
            "1.2583648530695375  guessed for an rmse of:  0.685172588438916\n"
          ]
        }
      ]
    },
    {
      "cell_type": "code",
      "source": [
        "KNN = KNeighborsRegressor(n_neighbors=500, weights='distance', metric ='manhattan')\n",
        "KNN.fit(X_train,y_train)\n",
        "predictions = KNN.predict(X_test)\n",
        "rmse = computeRMSE(predictions, y_test)\n",
        "print(rmse)"
      ],
      "metadata": {
        "colab": {
          "base_uri": "https://localhost:8080/"
        },
        "id": "8g-tChfLGTU-",
        "outputId": "754e25fe-9c61-4da2-f322-ec60541079b6"
      },
      "id": "8g-tChfLGTU-",
      "execution_count": null,
      "outputs": [
        {
          "output_type": "stream",
          "name": "stdout",
          "text": [
            "0.6861232980640662\n"
          ]
        }
      ]
    },
    {
      "cell_type": "code",
      "source": [
        ""
      ],
      "metadata": {
        "id": "1Bl5hdovJ-Vr"
      },
      "id": "1Bl5hdovJ-Vr",
      "execution_count": null,
      "outputs": []
    },
    {
      "cell_type": "code",
      "source": [
        ""
      ],
      "metadata": {
        "id": "-KHEIOmrJ-hu"
      },
      "id": "-KHEIOmrJ-hu",
      "execution_count": null,
      "outputs": []
    },
    {
      "cell_type": "code",
      "source": [
        ""
      ],
      "metadata": {
        "id": "joK1JMOYKEtH"
      },
      "id": "joK1JMOYKEtH",
      "execution_count": null,
      "outputs": []
    },
    {
      "cell_type": "code",
      "source": [
        ""
      ],
      "metadata": {
        "id": "7cX0bNOmKE3q"
      },
      "id": "7cX0bNOmKE3q",
      "execution_count": null,
      "outputs": []
    }
  ],
  "metadata": {
    "kernelspec": {
      "display_name": "Python 3",
      "language": "python",
      "name": "python3"
    },
    "language_info": {
      "codemirror_mode": {
        "name": "ipython",
        "version": 3
      },
      "file_extension": ".py",
      "mimetype": "text/x-python",
      "name": "python",
      "nbconvert_exporter": "python",
      "pygments_lexer": "ipython3",
      "version": "3.8.8"
    },
    "colab": {
      "name": "Gun_Violence_moon_phase_analysis.ipynb",
      "provenance": [],
      "collapsed_sections": [],
      "include_colab_link": true
    }
  },
  "nbformat": 4,
  "nbformat_minor": 5
}